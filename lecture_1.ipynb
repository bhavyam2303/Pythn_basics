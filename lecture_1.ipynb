# random number generation 

import random 
print(random.randint(1,100))

      
